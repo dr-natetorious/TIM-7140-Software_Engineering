{
 "cells": [
  {
   "cell_type": "code",
   "execution_count": 1,
   "id": "eleven-underwear",
   "metadata": {},
   "outputs": [],
   "source": [
    "import numpy as np\n",
    "import pandas as pd"
   ]
  },
  {
   "cell_type": "code",
   "execution_count": 6,
   "id": "fresh-union",
   "metadata": {},
   "outputs": [],
   "source": [
    "df = pd.read_csv('./r4_dangerous_perms.csv')\n",
    "df['permission_name'] = df['permission_name'].str.strip()"
   ]
  }
 ],
 "metadata": {
  "kernelspec": {
   "display_name": "Python 3",
   "language": "python",
   "name": "python3"
  },
  "language_info": {
   "codemirror_mode": {
    "name": "ipython",
    "version": 3
   },
   "file_extension": ".py",
   "mimetype": "text/x-python",
   "name": "python",
   "nbconvert_exporter": "python",
   "pygments_lexer": "ipython3",
   "version": "3.8.8"
  }
 },
 "nbformat": 4,
 "nbformat_minor": 5
}
