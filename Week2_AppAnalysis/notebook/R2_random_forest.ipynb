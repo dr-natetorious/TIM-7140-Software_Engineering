{
 "cells": [
  {
   "cell_type": "code",
   "execution_count": 45,
   "id": "fitted-toolbox",
   "metadata": {},
   "outputs": [],
   "source": [
    "import pandas as pd\n",
    "import numpy as np\n",
    "from sklearn.ensemble import RandomForestClassifier, RandomForestRegressor\n",
    "from sklearn.model_selection import train_test_split"
   ]
  },
  {
   "cell_type": "code",
   "execution_count": 46,
   "id": "generic-jenny",
   "metadata": {},
   "outputs": [
    {
     "name": "stdout",
     "output_type": "stream",
     "text": [
      "   fuzzy_risk  classes  functions  comment_lines  ncloc  lines  complexity  \\\n",
      "0       51.11       57        306            532   3782   6063         822   \n",
      "1       51.11       14        121            480   1480   2735         334   \n",
      "2        0.00       15        127            765    964   2323         214   \n",
      "3        0.00        6         75            288   1480   2107         352   \n",
      "4        0.00       24        149            494   2264   3680         527   \n",
      "\n",
      "   class_complexity  function_complexity  blocker_violations  \\\n",
      "0              14.4                  2.7                   0   \n",
      "1              23.9                  2.7                   0   \n",
      "2              14.3                  1.7                   0   \n",
      "3              58.7                  4.7                   0   \n",
      "4              22.0                  3.5                   0   \n",
      "\n",
      "   critical_violations  major_violations  minor_violations  Label  \n",
      "0                    0               237               123      1  \n",
      "1                    3                78                54      1  \n",
      "2                    0                51                52      0  \n",
      "3                    1                86                70      0  \n",
      "4                    0               222                99      0  \n"
     ]
    }
   ],
   "source": [
    "df = pd.read_csv('./r2_forest.csv').dropna()\n",
    "print(df.head())\n",
    "x = df.copy()\n",
    "y = df['Label']\n",
    "del x['fuzzy_risk']\n",
    "del x['Label']\n",
    "x_train, x_test, y_train, y_test = train_test_split(x,y, train_size=0.65, test_size=0.35, random_state=0)"
   ]
  },
  {
   "cell_type": "code",
   "execution_count": 49,
   "id": "thorough-balance",
   "metadata": {},
   "outputs": [
    {
     "name": "stdout",
     "output_type": "stream",
     "text": [
      "============\n",
      "[[90 42]\n",
      " [42 90]]\n",
      "0.6818181818181818\n",
      "============\n",
      "\n"
     ]
    }
   ],
   "source": [
    "from sklearn.metrics import confusion_matrix, accuracy_score\n",
    "clf = RandomForestClassifier(max_depth=4, random_state=0)\n",
    "clf.fit(x_train, y_train)\n",
    "\n",
    "y_pred = clf.predict(x_test)\n",
    "matrix = confusion_matrix(y_test,y_pred)\n",
    "accuracy = accuracy_score(y_test, y_pred)\n",
    "print(\"============\")\n",
    "print(matrix)\n",
    "print(accuracy)\n",
    "print(\"============\")\n",
    "print()"
   ]
  },
  {
   "cell_type": "code",
   "execution_count": null,
   "id": "three-contest",
   "metadata": {},
   "outputs": [],
   "source": []
  }
 ],
 "metadata": {
  "kernelspec": {
   "display_name": "Python 3",
   "language": "python",
   "name": "python3"
  },
  "language_info": {
   "codemirror_mode": {
    "name": "ipython",
    "version": 3
   },
   "file_extension": ".py",
   "mimetype": "text/x-python",
   "name": "python",
   "nbconvert_exporter": "python",
   "pygments_lexer": "ipython3",
   "version": "3.8.8"
  }
 },
 "nbformat": 4,
 "nbformat_minor": 5
}
